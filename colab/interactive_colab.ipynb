{
  "nbformat": 4,
  "nbformat_minor": 0,
  "metadata": {
    "kernelspec": {
      "name": "python3",
      "display_name": "Python 3"
    },
    "colab": {
      "name": "interactive_colab.ipynb",
      "provenance": []
    },
    "widgets": {
      "application/vnd.jupyter.widget-state+json": {
        "9015795580714cc5af13e95dcb0af9a9": {
          "model_module": "@jupyter-widgets/controls",
          "model_name": "ToggleButtonsModel",
          "state": {
            "_options_labels": [
              "Ag",
              "Al",
              "As",
              "Bi",
              "Br",
              "C",
              "Cl",
              "Co",
              "Cr",
              "Cu",
              "Fe",
              "Ge",
              "I",
              "In",
              "Mn",
              "Mo",
              "N",
              "Ni",
              "O",
              "P",
              "Pd",
              "Re",
              "S",
              "Sb",
              "Se",
              "Si",
              "Te",
              "Ti",
              "Tl",
              "V",
              "W",
              "Xe"
            ],
            "_view_name": "ToggleButtonsView",
            "style": "IPY_MODEL_2b7a0b5c779240e79dd3cc3eef08eb54",
            "_dom_classes": [],
            "description": "Element: ",
            "_model_name": "ToggleButtonsModel",
            "tooltips": [],
            "index": 10,
            "button_style": "",
            "_view_module": "@jupyter-widgets/controls",
            "_model_module_version": "1.5.0",
            "_view_count": null,
            "disabled": false,
            "_view_module_version": "1.5.0",
            "icons": [],
            "description_tooltip": null,
            "_model_module": "@jupyter-widgets/controls",
            "layout": "IPY_MODEL_26f37b233d1b4eddb23f8cc441c84ce7"
          }
        },
        "2b7a0b5c779240e79dd3cc3eef08eb54": {
          "model_module": "@jupyter-widgets/controls",
          "model_name": "ToggleButtonsStyleModel",
          "state": {
            "_view_name": "StyleView",
            "button_width": "",
            "_model_name": "ToggleButtonsStyleModel",
            "description_width": "",
            "_view_module": "@jupyter-widgets/base",
            "_model_module_version": "1.5.0",
            "_view_count": null,
            "font_weight": "",
            "_view_module_version": "1.2.0",
            "_model_module": "@jupyter-widgets/controls"
          }
        },
        "26f37b233d1b4eddb23f8cc441c84ce7": {
          "model_module": "@jupyter-widgets/base",
          "model_name": "LayoutModel",
          "state": {
            "_view_name": "LayoutView",
            "grid_template_rows": null,
            "right": null,
            "justify_content": null,
            "_view_module": "@jupyter-widgets/base",
            "overflow": null,
            "_model_module_version": "1.2.0",
            "_view_count": null,
            "flex_flow": null,
            "width": null,
            "min_width": null,
            "border": null,
            "align_items": null,
            "bottom": null,
            "_model_module": "@jupyter-widgets/base",
            "top": null,
            "grid_column": null,
            "overflow_y": null,
            "overflow_x": null,
            "grid_auto_flow": null,
            "grid_area": null,
            "grid_template_columns": null,
            "flex": null,
            "_model_name": "LayoutModel",
            "justify_items": null,
            "grid_row": null,
            "max_height": null,
            "align_content": null,
            "visibility": null,
            "align_self": null,
            "height": null,
            "min_height": null,
            "padding": null,
            "grid_auto_rows": null,
            "grid_gap": null,
            "max_width": null,
            "order": null,
            "_view_module_version": "1.2.0",
            "grid_template_areas": null,
            "object_position": null,
            "object_fit": null,
            "grid_auto_columns": null,
            "margin": null,
            "display": null,
            "left": null
          }
        },
        "0c820e1b2b794c829d44604d62087a99": {
          "model_module": "@jupyter-widgets/controls",
          "model_name": "ToggleButtonsModel",
          "state": {
            "_options_labels": [
              "acid",
              "basic"
            ],
            "_view_name": "ToggleButtonsView",
            "style": "IPY_MODEL_f47dec2593644d359e35626d6554e12c",
            "_dom_classes": [],
            "description": "Solution: ",
            "_model_name": "ToggleButtonsModel",
            "tooltips": [],
            "index": 0,
            "button_style": "",
            "_view_module": "@jupyter-widgets/controls",
            "_model_module_version": "1.5.0",
            "_view_count": null,
            "disabled": false,
            "_view_module_version": "1.5.0",
            "icons": [],
            "description_tooltip": null,
            "_model_module": "@jupyter-widgets/controls",
            "layout": "IPY_MODEL_cb4db6cb8a5e4b9397a4afb4e66cc2d7"
          }
        },
        "f47dec2593644d359e35626d6554e12c": {
          "model_module": "@jupyter-widgets/controls",
          "model_name": "ToggleButtonsStyleModel",
          "state": {
            "_view_name": "StyleView",
            "button_width": "",
            "_model_name": "ToggleButtonsStyleModel",
            "description_width": "",
            "_view_module": "@jupyter-widgets/base",
            "_model_module_version": "1.5.0",
            "_view_count": null,
            "font_weight": "",
            "_view_module_version": "1.2.0",
            "_model_module": "@jupyter-widgets/controls"
          }
        },
        "cb4db6cb8a5e4b9397a4afb4e66cc2d7": {
          "model_module": "@jupyter-widgets/base",
          "model_name": "LayoutModel",
          "state": {
            "_view_name": "LayoutView",
            "grid_template_rows": null,
            "right": null,
            "justify_content": null,
            "_view_module": "@jupyter-widgets/base",
            "overflow": null,
            "_model_module_version": "1.2.0",
            "_view_count": null,
            "flex_flow": null,
            "width": null,
            "min_width": null,
            "border": null,
            "align_items": null,
            "bottom": null,
            "_model_module": "@jupyter-widgets/base",
            "top": null,
            "grid_column": null,
            "overflow_y": null,
            "overflow_x": null,
            "grid_auto_flow": null,
            "grid_area": null,
            "grid_template_columns": null,
            "flex": null,
            "_model_name": "LayoutModel",
            "justify_items": null,
            "grid_row": null,
            "max_height": null,
            "align_content": null,
            "visibility": null,
            "align_self": null,
            "height": null,
            "min_height": null,
            "padding": null,
            "grid_auto_rows": null,
            "grid_gap": null,
            "max_width": null,
            "order": null,
            "_view_module_version": "1.2.0",
            "grid_template_areas": null,
            "object_position": null,
            "object_fit": null,
            "grid_auto_columns": null,
            "margin": null,
            "display": null,
            "left": null
          }
        },
        "ad609c3ff3e943cb8be6275f695fb20c": {
          "model_module": "@jupyter-widgets/controls",
          "model_name": "VBoxModel",
          "state": {
            "_view_name": "VBoxView",
            "_dom_classes": [
              "widget-interact"
            ],
            "_model_name": "VBoxModel",
            "_view_module": "@jupyter-widgets/controls",
            "_model_module_version": "1.5.0",
            "_view_count": null,
            "_view_module_version": "1.5.0",
            "box_style": "",
            "layout": "IPY_MODEL_543e58a56bc548bf90636b8334664d26",
            "_model_module": "@jupyter-widgets/controls",
            "children": [
              "IPY_MODEL_044550c0bd0d44ffa35a46722cfa76b2",
              "IPY_MODEL_a360fb7d2e8a42daba99a9647bb98dbc",
              "IPY_MODEL_70fef917706746e4a3364caf3497531e",
              "IPY_MODEL_ba549cfea3b94eb6a7af76b0560cd3f1"
            ]
          }
        },
        "543e58a56bc548bf90636b8334664d26": {
          "model_module": "@jupyter-widgets/base",
          "model_name": "LayoutModel",
          "state": {
            "_view_name": "LayoutView",
            "grid_template_rows": null,
            "right": null,
            "justify_content": null,
            "_view_module": "@jupyter-widgets/base",
            "overflow": null,
            "_model_module_version": "1.2.0",
            "_view_count": null,
            "flex_flow": null,
            "width": null,
            "min_width": null,
            "border": null,
            "align_items": null,
            "bottom": null,
            "_model_module": "@jupyter-widgets/base",
            "top": null,
            "grid_column": null,
            "overflow_y": null,
            "overflow_x": null,
            "grid_auto_flow": null,
            "grid_area": null,
            "grid_template_columns": null,
            "flex": null,
            "_model_name": "LayoutModel",
            "justify_items": null,
            "grid_row": null,
            "max_height": null,
            "align_content": null,
            "visibility": null,
            "align_self": null,
            "height": null,
            "min_height": null,
            "padding": null,
            "grid_auto_rows": null,
            "grid_gap": null,
            "max_width": null,
            "order": null,
            "_view_module_version": "1.2.0",
            "grid_template_areas": null,
            "object_position": null,
            "object_fit": null,
            "grid_auto_columns": null,
            "margin": null,
            "display": null,
            "left": null
          }
        },
        "044550c0bd0d44ffa35a46722cfa76b2": {
          "model_module": "@jupyter-widgets/controls",
          "model_name": "FloatSliderModel",
          "state": {
            "_view_name": "FloatSliderView",
            "style": "IPY_MODEL_f6d1545a3bbd46b7a538723dfdabd461",
            "_dom_classes": [],
            "description": "pH:",
            "step": 0.5,
            "_model_name": "FloatSliderModel",
            "orientation": "horizontal",
            "max": 7,
            "_view_module": "@jupyter-widgets/controls",
            "_model_module_version": "1.5.0",
            "value": 0,
            "_view_count": null,
            "disabled": false,
            "_view_module_version": "1.5.0",
            "min": 0,
            "continuous_update": false,
            "readout_format": ".1f",
            "description_tooltip": null,
            "readout": true,
            "_model_module": "@jupyter-widgets/controls",
            "layout": "IPY_MODEL_3d2924fb00344a00806367728438d096"
          }
        },
        "a360fb7d2e8a42daba99a9647bb98dbc": {
          "model_module": "@jupyter-widgets/controls",
          "model_name": "FloatLogSliderModel",
          "state": {
            "_view_name": "FloatLogSliderView",
            "orientation": "horizontal",
            "_view_module": "@jupyter-widgets/controls",
            "_model_module_version": "1.5.0",
            "_view_count": null,
            "disabled": false,
            "readout_format": ".1e",
            "_model_module": "@jupyter-widgets/controls",
            "style": "IPY_MODEL_1d14c901308041929e9755a6d2b46915",
            "layout": "IPY_MODEL_421d8b40cc674f86a0e193c79b5b3045",
            "min": -14,
            "continuous_update": false,
            "description_tooltip": null,
            "_dom_classes": [],
            "description": "[species]",
            "_model_name": "FloatLogSliderModel",
            "max": 0,
            "readout": true,
            "step": 1,
            "base": 10,
            "value": 0.00009999999999999999,
            "_view_module_version": "1.5.0"
          }
        },
        "70fef917706746e4a3364caf3497531e": {
          "model_module": "@jupyter-widgets/controls",
          "model_name": "CheckboxModel",
          "state": {
            "_view_name": "CheckboxView",
            "style": "IPY_MODEL_499c89895b074b808dfa8445ed9aaa98",
            "_dom_classes": [],
            "description": "labels",
            "_model_name": "CheckboxModel",
            "_view_module": "@jupyter-widgets/controls",
            "_model_module_version": "1.5.0",
            "value": true,
            "_view_count": null,
            "disabled": false,
            "_view_module_version": "1.5.0",
            "indent": true,
            "description_tooltip": null,
            "_model_module": "@jupyter-widgets/controls",
            "layout": "IPY_MODEL_9605178ba01b45cca290e9157791bb35"
          }
        },
        "ba549cfea3b94eb6a7af76b0560cd3f1": {
          "model_module": "@jupyter-widgets/output",
          "model_name": "OutputModel",
          "state": {
            "_view_name": "OutputView",
            "msg_id": "",
            "_dom_classes": [],
            "_model_name": "OutputModel",
            "outputs": [
              {
                "output_type": "display_data",
                "metadata": {
                  "tags": []
                },
                "image/png": "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\n",
                "text/plain": "<Figure size 1008x576 with 1 Axes>"
              }
            ],
            "_view_module": "@jupyter-widgets/output",
            "_model_module_version": "1.0.0",
            "_view_count": null,
            "_view_module_version": "1.0.0",
            "layout": "IPY_MODEL_836c31bcaedb4a03aa3b424458b4c808",
            "_model_module": "@jupyter-widgets/output"
          }
        },
        "f6d1545a3bbd46b7a538723dfdabd461": {
          "model_module": "@jupyter-widgets/controls",
          "model_name": "SliderStyleModel",
          "state": {
            "_view_name": "StyleView",
            "handle_color": null,
            "_model_name": "SliderStyleModel",
            "description_width": "",
            "_view_module": "@jupyter-widgets/base",
            "_model_module_version": "1.5.0",
            "_view_count": null,
            "_view_module_version": "1.2.0",
            "_model_module": "@jupyter-widgets/controls"
          }
        },
        "3d2924fb00344a00806367728438d096": {
          "model_module": "@jupyter-widgets/base",
          "model_name": "LayoutModel",
          "state": {
            "_view_name": "LayoutView",
            "grid_template_rows": null,
            "right": null,
            "justify_content": null,
            "_view_module": "@jupyter-widgets/base",
            "overflow": null,
            "_model_module_version": "1.2.0",
            "_view_count": null,
            "flex_flow": null,
            "width": null,
            "min_width": null,
            "border": null,
            "align_items": null,
            "bottom": null,
            "_model_module": "@jupyter-widgets/base",
            "top": null,
            "grid_column": null,
            "overflow_y": null,
            "overflow_x": null,
            "grid_auto_flow": null,
            "grid_area": null,
            "grid_template_columns": null,
            "flex": null,
            "_model_name": "LayoutModel",
            "justify_items": null,
            "grid_row": null,
            "max_height": null,
            "align_content": null,
            "visibility": null,
            "align_self": null,
            "height": null,
            "min_height": null,
            "padding": null,
            "grid_auto_rows": null,
            "grid_gap": null,
            "max_width": null,
            "order": null,
            "_view_module_version": "1.2.0",
            "grid_template_areas": null,
            "object_position": null,
            "object_fit": null,
            "grid_auto_columns": null,
            "margin": null,
            "display": null,
            "left": null
          }
        },
        "1d14c901308041929e9755a6d2b46915": {
          "model_module": "@jupyter-widgets/controls",
          "model_name": "SliderStyleModel",
          "state": {
            "_view_name": "StyleView",
            "handle_color": null,
            "_model_name": "SliderStyleModel",
            "description_width": "",
            "_view_module": "@jupyter-widgets/base",
            "_model_module_version": "1.5.0",
            "_view_count": null,
            "_view_module_version": "1.2.0",
            "_model_module": "@jupyter-widgets/controls"
          }
        },
        "421d8b40cc674f86a0e193c79b5b3045": {
          "model_module": "@jupyter-widgets/base",
          "model_name": "LayoutModel",
          "state": {
            "_view_name": "LayoutView",
            "grid_template_rows": null,
            "right": null,
            "justify_content": null,
            "_view_module": "@jupyter-widgets/base",
            "overflow": null,
            "_model_module_version": "1.2.0",
            "_view_count": null,
            "flex_flow": null,
            "width": null,
            "min_width": null,
            "border": null,
            "align_items": null,
            "bottom": null,
            "_model_module": "@jupyter-widgets/base",
            "top": null,
            "grid_column": null,
            "overflow_y": null,
            "overflow_x": null,
            "grid_auto_flow": null,
            "grid_area": null,
            "grid_template_columns": null,
            "flex": null,
            "_model_name": "LayoutModel",
            "justify_items": null,
            "grid_row": null,
            "max_height": null,
            "align_content": null,
            "visibility": null,
            "align_self": null,
            "height": null,
            "min_height": null,
            "padding": null,
            "grid_auto_rows": null,
            "grid_gap": null,
            "max_width": null,
            "order": null,
            "_view_module_version": "1.2.0",
            "grid_template_areas": null,
            "object_position": null,
            "object_fit": null,
            "grid_auto_columns": null,
            "margin": null,
            "display": null,
            "left": null
          }
        },
        "499c89895b074b808dfa8445ed9aaa98": {
          "model_module": "@jupyter-widgets/controls",
          "model_name": "DescriptionStyleModel",
          "state": {
            "_view_name": "StyleView",
            "_model_name": "DescriptionStyleModel",
            "description_width": "",
            "_view_module": "@jupyter-widgets/base",
            "_model_module_version": "1.5.0",
            "_view_count": null,
            "_view_module_version": "1.2.0",
            "_model_module": "@jupyter-widgets/controls"
          }
        },
        "9605178ba01b45cca290e9157791bb35": {
          "model_module": "@jupyter-widgets/base",
          "model_name": "LayoutModel",
          "state": {
            "_view_name": "LayoutView",
            "grid_template_rows": null,
            "right": null,
            "justify_content": null,
            "_view_module": "@jupyter-widgets/base",
            "overflow": null,
            "_model_module_version": "1.2.0",
            "_view_count": null,
            "flex_flow": null,
            "width": null,
            "min_width": null,
            "border": null,
            "align_items": null,
            "bottom": null,
            "_model_module": "@jupyter-widgets/base",
            "top": null,
            "grid_column": null,
            "overflow_y": null,
            "overflow_x": null,
            "grid_auto_flow": null,
            "grid_area": null,
            "grid_template_columns": null,
            "flex": null,
            "_model_name": "LayoutModel",
            "justify_items": null,
            "grid_row": null,
            "max_height": null,
            "align_content": null,
            "visibility": null,
            "align_self": null,
            "height": null,
            "min_height": null,
            "padding": null,
            "grid_auto_rows": null,
            "grid_gap": null,
            "max_width": null,
            "order": null,
            "_view_module_version": "1.2.0",
            "grid_template_areas": null,
            "object_position": null,
            "object_fit": null,
            "grid_auto_columns": null,
            "margin": null,
            "display": null,
            "left": null
          }
        },
        "836c31bcaedb4a03aa3b424458b4c808": {
          "model_module": "@jupyter-widgets/base",
          "model_name": "LayoutModel",
          "state": {
            "_view_name": "LayoutView",
            "grid_template_rows": null,
            "right": null,
            "justify_content": null,
            "_view_module": "@jupyter-widgets/base",
            "overflow": null,
            "_model_module_version": "1.2.0",
            "_view_count": null,
            "flex_flow": null,
            "width": null,
            "min_width": null,
            "border": null,
            "align_items": null,
            "bottom": null,
            "_model_module": "@jupyter-widgets/base",
            "top": null,
            "grid_column": null,
            "overflow_y": null,
            "overflow_x": null,
            "grid_auto_flow": null,
            "grid_area": null,
            "grid_template_columns": null,
            "flex": null,
            "_model_name": "LayoutModel",
            "justify_items": null,
            "grid_row": null,
            "max_height": null,
            "align_content": null,
            "visibility": null,
            "align_self": null,
            "height": null,
            "min_height": null,
            "padding": null,
            "grid_auto_rows": null,
            "grid_gap": null,
            "max_width": null,
            "order": null,
            "_view_module_version": "1.2.0",
            "grid_template_areas": null,
            "object_position": null,
            "object_fit": null,
            "grid_auto_columns": null,
            "margin": null,
            "display": null,
            "left": null
          }
        }
      }
    }
  },
  "cells": [
    {
      "cell_type": "markdown",
      "metadata": {
        "id": "jcgqR1A7wN2s"
      },
      "source": [
        "<a href=\"https://colab.research.google.com/github/chicolucio/frost_diagrams/blob/colab/colab/interactive_colab.ipynb\" target=\"_blank\">\n",
        "  <img src=\"https://colab.research.google.com/assets/colab-badge.svg\" alt=\"Open In Colab\"/>\n",
        "</a>\n",
        "\n",
        "This notebook was made for use in Google Colab.\n",
        "\n",
        "Original code and more detailed information at [the GitHub repo](https://github.com/chicolucio/frost_diagrams)."
      ]
    },
    {
      "cell_type": "markdown",
      "metadata": {
        "id": "77LpstkewN2u"
      },
      "source": [
        "### Run the following cell to choose a chemical element:"
      ]
    },
    {
      "cell_type": "code",
      "metadata": {
        "execution": {
          "iopub.execute_input": "2020-10-24T22:04:34.118324Z",
          "iopub.status.busy": "2020-10-24T22:04:34.117804Z",
          "iopub.status.idle": "2020-10-24T22:04:34.130247Z",
          "shell.execute_reply": "2020-10-24T22:04:34.129763Z",
          "shell.execute_reply.started": "2020-10-24T22:04:34.118261Z"
        },
        "id": "JrifDjsmwN2v",
        "cellView": "form",
        "outputId": "fc62ddaf-d6c3-4939-d0f5-f82e56f24942",
        "colab": {
          "base_uri": "https://localhost:8080/",
          "height": 108,
          "referenced_widgets": [
            "9015795580714cc5af13e95dcb0af9a9",
            "2b7a0b5c779240e79dd3cc3eef08eb54",
            "26f37b233d1b4eddb23f8cc441c84ce7"
          ]
        }
      },
      "source": [
        "#@title {run: 'auto'}\n",
        "#@markdown ### Click the arrow to run\n",
        "\n",
        "!git clone https://github.com/chicolucio/frost_diagrams &> /dev/null\n",
        "%cd -q frost_diagrams\n",
        "\n",
        "from electrochemistry.electrochemistry import Electrochemistry\n",
        "import ipywidgets\n",
        "from ipywidgets import interact, interactive, fixed\n",
        "import matplotlib.pyplot as plt\n",
        "import gc\n",
        "\n",
        "element = ipywidgets.ToggleButtons(\n",
        "    options=['Ag', 'Al', 'As', 'Bi', 'Br', 'C', 'Cl', 'Co', 'Cr', 'Cu', 'Fe', 'Ge', 'I', 'In', 'Mn', 'Mo', 'N', 'Ni', 'O', 'P', 'Pd', 'Re', 'S', 'Sb', 'Se', 'Si', 'Te', 'Ti', 'Tl', 'V', 'W', 'Xe'],\n",
        "    description='Element: ',\n",
        "    disabled=False,\n",
        "    button_style='')\n",
        "\n",
        "display(element)"
      ],
      "execution_count": 1,
      "outputs": [
        {
          "output_type": "display_data",
          "data": {
            "application/vnd.jupyter.widget-view+json": {
              "model_id": "9015795580714cc5af13e95dcb0af9a9",
              "version_minor": 0,
              "version_major": 2
            },
            "text/plain": [
              "ToggleButtons(description='Element: ', options=('Ag', 'Al', 'As', 'Bi', 'Br', 'C', 'Cl', 'Co', 'Cr', 'Cu', 'Fe…"
            ]
          },
          "metadata": {
            "tags": []
          }
        }
      ]
    },
    {
      "cell_type": "markdown",
      "metadata": {
        "id": "b6EsmBfjwN22"
      },
      "source": [
        "### Run the cell bellow to choose the solution (acid or basic):"
      ]
    },
    {
      "cell_type": "code",
      "metadata": {
        "execution": {
          "iopub.execute_input": "2020-10-24T22:04:40.545115Z",
          "iopub.status.busy": "2020-10-24T22:04:40.544962Z",
          "iopub.status.idle": "2020-10-24T22:04:40.553097Z",
          "shell.execute_reply": "2020-10-24T22:04:40.552654Z",
          "shell.execute_reply.started": "2020-10-24T22:04:40.545096Z"
        },
        "id": "MSelZzdAwN23",
        "cellView": "form",
        "outputId": "3d68cb0d-67a2-46a8-c36f-49538516c24e",
        "colab": {
          "base_uri": "https://localhost:8080/",
          "height": 50,
          "referenced_widgets": [
            "0c820e1b2b794c829d44604d62087a99",
            "f47dec2593644d359e35626d6554e12c",
            "cb4db6cb8a5e4b9397a4afb4e66cc2d7"
          ]
        }
      },
      "source": [
        "#@title {run: 'auto'}\n",
        "#@markdown ### Click the arrow to run\n",
        "\n",
        "solution = ipywidgets.ToggleButtons(\n",
        "    options=['acid', 'basic'],\n",
        "    description='Solution: ',\n",
        "    disabled=False,\n",
        "    button_style='')\n",
        "\n",
        "display(solution)"
      ],
      "execution_count": 2,
      "outputs": [
        {
          "output_type": "display_data",
          "data": {
            "application/vnd.jupyter.widget-view+json": {
              "model_id": "0c820e1b2b794c829d44604d62087a99",
              "version_minor": 0,
              "version_major": 2
            },
            "text/plain": [
              "ToggleButtons(description='Solution: ', options=('acid', 'basic'), value='acid')"
            ]
          },
          "metadata": {
            "tags": []
          }
        }
      ]
    },
    {
      "cell_type": "markdown",
      "metadata": {
        "id": "6OrPX7cHwN27"
      },
      "source": [
        "### Finally, run the cell below to interact with a Frost diagram for the chosen element in which you can change the pH and the concentration of ionic or gaseous species:"
      ]
    },
    {
      "cell_type": "code",
      "metadata": {
        "execution": {
          "iopub.execute_input": "2020-10-24T22:07:33.511859Z",
          "iopub.status.busy": "2020-10-24T22:07:33.511273Z",
          "iopub.status.idle": "2020-10-24T22:07:34.206642Z",
          "shell.execute_reply": "2020-10-24T22:07:34.206207Z",
          "shell.execute_reply.started": "2020-10-24T22:07:33.511789Z"
        },
        "id": "1ow8XW3ZwN27",
        "cellView": "form",
        "outputId": "7e147aa3-5ddc-4e17-fe8a-f73e445a445d",
        "colab": {
          "base_uri": "https://localhost:8080/",
          "height": 697,
          "referenced_widgets": [
            "ad609c3ff3e943cb8be6275f695fb20c",
            "543e58a56bc548bf90636b8334664d26",
            "044550c0bd0d44ffa35a46722cfa76b2",
            "a360fb7d2e8a42daba99a9647bb98dbc",
            "70fef917706746e4a3364caf3497531e",
            "ba549cfea3b94eb6a7af76b0560cd3f1",
            "f6d1545a3bbd46b7a538723dfdabd461",
            "3d2924fb00344a00806367728438d096",
            "1d14c901308041929e9755a6d2b46915",
            "421d8b40cc674f86a0e193c79b5b3045",
            "499c89895b074b808dfa8445ed9aaa98",
            "9605178ba01b45cca290e9157791bb35",
            "836c31bcaedb4a03aa3b424458b4c808"
          ]
        }
      },
      "source": [
        "#@title {run: 'auto'}\n",
        "#@markdown ### Click the arrow to run\n",
        "\n",
        "c = ipywidgets.FloatLogSlider(\n",
        "    value=1,\n",
        "    base=10,\n",
        "    min=-14, # max exponent of base\n",
        "    max=0, # min exponent of base\n",
        "    step=1, # exponent step\n",
        "    description='[species]',\n",
        "    disabled=False,\n",
        "    continuous_update=False,\n",
        "    readout_format='.1e'\n",
        ")\n",
        "\n",
        "label_toggle = ipywidgets.Checkbox(\n",
        "    value=False,\n",
        "    description='Label',\n",
        "    disabled=False\n",
        ")\n",
        "\n",
        "if solution.value == 'acid':\n",
        "    default_value = 0\n",
        "    min_value = 0\n",
        "    max_value = 7\n",
        "    \n",
        "\n",
        "if solution.value == 'basic':\n",
        "    default_value = 14\n",
        "    min_value = 7.5\n",
        "    max_value = 14\n",
        "\n",
        "\n",
        "pH = ipywidgets.FloatSlider(\n",
        "    value=default_value,\n",
        "    min=min_value,\n",
        "    max=max_value,\n",
        "    step=0.5,\n",
        "    description='pH:',\n",
        "    disabled=False,\n",
        "    continuous_update=False,\n",
        "    orientation='horizontal',\n",
        "    readout=True,\n",
        "    readout_format='.1f',)    \n",
        "\n",
        "instance = Electrochemistry(element.value)\n",
        "\n",
        "def plot_interactive(pH=0, conc_ion=1, temperature=298.15, labels=True):        \n",
        "    fig, arr = plt.subplots(nrows=1, ncols=1, figsize=(14,8), constrained_layout=True, facecolor=(1,1,1));    \n",
        "    instance.plot_frost(ax=arr, plot_standards=False, pH=pH, conc_ion=conc_ion, temperature=temperature, chemical_labels=labels)\n",
        "    gc.collect()\n",
        "\n",
        "\n",
        "graph = interactive(plot_interactive,                    \n",
        "                    pH=pH,\n",
        "                    conc_ion=c,\n",
        "                    temperature=fixed(298),\n",
        "                    chemical_labels=label_toggle)\n",
        "display(graph)\n",
        "gc.collect();"
      ],
      "execution_count": 3,
      "outputs": [
        {
          "output_type": "display_data",
          "data": {
            "application/vnd.jupyter.widget-view+json": {
              "model_id": "ad609c3ff3e943cb8be6275f695fb20c",
              "version_minor": 0,
              "version_major": 2
            },
            "text/plain": [
              "interactive(children=(FloatSlider(value=0.0, continuous_update=False, description='pH:', max=7.0, readout_form…"
            ]
          },
          "metadata": {
            "tags": []
          }
        }
      ]
    },
    {
      "cell_type": "code",
      "metadata": {
        "id": "E263LYxuwN2_"
      },
      "source": [
        ""
      ],
      "execution_count": null,
      "outputs": []
    }
  ]
}